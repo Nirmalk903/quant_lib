{
 "cells": [
  {
   "cell_type": "code",
   "execution_count": 19,
   "id": "a0ffd4ae-91b6-49fe-b8e8-3b8335a7b91c",
   "metadata": {},
   "outputs": [],
   "source": [
    "import pandas as pd\n",
    "import numpy as np\n",
    "from QuantLib import *\n",
    "from datetime import datetime as dt"
   ]
  },
  {
   "cell_type": "code",
   "execution_count": 22,
   "id": "bf0bc419-1713-440e-9fb8-ca1dd8a7b66c",
   "metadata": {},
   "outputs": [
    {
     "data": {
      "text/plain": [
       "Date(13,3,2025)"
      ]
     },
     "execution_count": 22,
     "metadata": {},
     "output_type": "execute_result"
    }
   ],
   "source": [
    "date = Date(13,3,2025)\n",
    "date"
   ]
  },
  {
   "cell_type": "code",
   "execution_count": 24,
   "id": "fd05ab67-f6fd-4678-8411-ebc1f1e8b6d8",
   "metadata": {},
   "outputs": [],
   "source": [
    "india_calendar = India()\n",
    "period = Period(60,Days)\n",
    "raw_date = date+period #simply adds days \n",
    "india_date = india_calendar.advance(date,period) #gives business days"
   ]
  },
  {
   "cell_type": "code",
   "execution_count": 31,
   "id": "7c432488-bfd3-461f-b0c9-ea90ce09b886",
   "metadata": {},
   "outputs": [
    {
     "data": {
      "text/plain": [
       "60"
      ]
     },
     "execution_count": 31,
     "metadata": {},
     "output_type": "execute_result"
    }
   ],
   "source": [
    "india_busdays = india_calendar.businessDaysBetween(date, india_date)\n",
    "india_busdays"
   ]
  },
  {
   "cell_type": "code",
   "execution_count": 40,
   "id": "2a24217b-c54b-4649-a2b4-e86037ae28b2",
   "metadata": {},
   "outputs": [
    {
     "data": {
      "text/html": [
       "<div>\n",
       "<style scoped>\n",
       "    .dataframe tbody tr th:only-of-type {\n",
       "        vertical-align: middle;\n",
       "    }\n",
       "\n",
       "    .dataframe tbody tr th {\n",
       "        vertical-align: top;\n",
       "    }\n",
       "\n",
       "    .dataframe thead th {\n",
       "        text-align: right;\n",
       "    }\n",
       "</style>\n",
       "<table border=\"1\" class=\"dataframe\">\n",
       "  <thead>\n",
       "    <tr style=\"text-align: right;\">\n",
       "      <th></th>\n",
       "      <th>Date</th>\n",
       "    </tr>\n",
       "  </thead>\n",
       "  <tbody>\n",
       "    <tr>\n",
       "      <th>0</th>\n",
       "      <td>March 13th, 2025</td>\n",
       "    </tr>\n",
       "    <tr>\n",
       "      <th>1</th>\n",
       "      <td>March 17th, 2025</td>\n",
       "    </tr>\n",
       "    <tr>\n",
       "      <th>2</th>\n",
       "      <td>March 18th, 2025</td>\n",
       "    </tr>\n",
       "    <tr>\n",
       "      <th>3</th>\n",
       "      <td>March 19th, 2025</td>\n",
       "    </tr>\n",
       "    <tr>\n",
       "      <th>4</th>\n",
       "      <td>March 20th, 2025</td>\n",
       "    </tr>\n",
       "    <tr>\n",
       "      <th>5</th>\n",
       "      <td>March 21st, 2025</td>\n",
       "    </tr>\n",
       "    <tr>\n",
       "      <th>6</th>\n",
       "      <td>March 24th, 2025</td>\n",
       "    </tr>\n",
       "    <tr>\n",
       "      <th>7</th>\n",
       "      <td>March 25th, 2025</td>\n",
       "    </tr>\n",
       "    <tr>\n",
       "      <th>8</th>\n",
       "      <td>March 26th, 2025</td>\n",
       "    </tr>\n",
       "    <tr>\n",
       "      <th>9</th>\n",
       "      <td>March 27th, 2025</td>\n",
       "    </tr>\n",
       "    <tr>\n",
       "      <th>10</th>\n",
       "      <td>March 28th, 2025</td>\n",
       "    </tr>\n",
       "    <tr>\n",
       "      <th>11</th>\n",
       "      <td>April 1st, 2025</td>\n",
       "    </tr>\n",
       "    <tr>\n",
       "      <th>12</th>\n",
       "      <td>April 2nd, 2025</td>\n",
       "    </tr>\n",
       "    <tr>\n",
       "      <th>13</th>\n",
       "      <td>April 3rd, 2025</td>\n",
       "    </tr>\n",
       "    <tr>\n",
       "      <th>14</th>\n",
       "      <td>April 4th, 2025</td>\n",
       "    </tr>\n",
       "    <tr>\n",
       "      <th>15</th>\n",
       "      <td>April 7th, 2025</td>\n",
       "    </tr>\n",
       "    <tr>\n",
       "      <th>16</th>\n",
       "      <td>April 8th, 2025</td>\n",
       "    </tr>\n",
       "    <tr>\n",
       "      <th>17</th>\n",
       "      <td>April 9th, 2025</td>\n",
       "    </tr>\n",
       "    <tr>\n",
       "      <th>18</th>\n",
       "      <td>April 11th, 2025</td>\n",
       "    </tr>\n",
       "    <tr>\n",
       "      <th>19</th>\n",
       "      <td>April 15th, 2025</td>\n",
       "    </tr>\n",
       "  </tbody>\n",
       "</table>\n",
       "</div>"
      ],
      "text/plain": [
       "                Date\n",
       "0   March 13th, 2025\n",
       "1   March 17th, 2025\n",
       "2   March 18th, 2025\n",
       "3   March 19th, 2025\n",
       "4   March 20th, 2025\n",
       "5   March 21st, 2025\n",
       "6   March 24th, 2025\n",
       "7   March 25th, 2025\n",
       "8   March 26th, 2025\n",
       "9   March 27th, 2025\n",
       "10  March 28th, 2025\n",
       "11   April 1st, 2025\n",
       "12   April 2nd, 2025\n",
       "13   April 3rd, 2025\n",
       "14   April 4th, 2025\n",
       "15   April 7th, 2025\n",
       "16   April 8th, 2025\n",
       "17   April 9th, 2025\n",
       "18  April 11th, 2025\n",
       "19  April 15th, 2025"
      ]
     },
     "execution_count": 40,
     "metadata": {},
     "output_type": "execute_result"
    }
   ],
   "source": [
    "date_df = pd.DataFrame({'Date':[india_calendar.advance(date,Period(i,Days)) for i in range(20)]})\n",
    "date_df"
   ]
  },
  {
   "cell_type": "markdown",
   "id": "83a5eec3-e36c-4d4a-9885-593fe1994aa8",
   "metadata": {},
   "source": [
    "#### Volatility Smile and Heston Model Calibration"
   ]
  },
  {
   "cell_type": "code",
   "execution_count": 47,
   "id": "984fe2ec-c0fc-4697-bbaa-2c294a2736d5",
   "metadata": {},
   "outputs": [],
   "source": [
    "day_count = Actual365Fixed()\n",
    "calendar = India()\n",
    "calculation_date = Date(13,3,2025)\n",
    "spot = 22550\n",
    "Settings.instance().evaluationDate = calculation_date\n",
    "\n",
    "dividend_yield = QuoteHandle(SimpleQuote(0.0))\n",
    "risk_free_rate = 0.105\n",
    "dividend_rate = 0.0\n",
    "flat_ts = YieldTermStructureHandle(FlatForward(calculation_date,risk_free_rate,day_count))\n",
    "dividend_ts = YieldTermStructureHandle(FlatForward(calculation_date,dividend_rate,day_count))\n"
   ]
  },
  {
   "cell_type": "code",
   "execution_count": 48,
   "id": "0145ba0f-52c4-40a1-8432-01b2c38318ed",
   "metadata": {},
   "outputs": [],
   "source": [
    "# Heston model dummy starting parameters -\n",
    "\n",
    "v0 = 0.01\n",
    "kappa  = 0.2\n",
    "theta = 0.02\n",
    "rho = -0.75\n",
    "sigma = 0.5\n"
   ]
  },
  {
   "cell_type": "code",
   "execution_count": 51,
   "id": "6f7d1e67-51f1-4330-bcd9-fa1d154fcff3",
   "metadata": {},
   "outputs": [],
   "source": [
    "process = HestonProcess(flat_ts,dividend_ts,QuoteHandle(SimpleQuote(spot)),v0,kappa,theta,sigma, rho)\n",
    "\n",
    "model = HestonModel(process)\n",
    "\n",
    "engine = AnalyticHestonEngine(model)\n",
    "\n"
   ]
  }
 ],
 "metadata": {
  "kernelspec": {
   "display_name": "Python 3 (ipykernel)",
   "language": "python",
   "name": "python3"
  },
  "language_info": {
   "codemirror_mode": {
    "name": "ipython",
    "version": 3
   },
   "file_extension": ".py",
   "mimetype": "text/x-python",
   "name": "python",
   "nbconvert_exporter": "python",
   "pygments_lexer": "ipython3",
   "version": "3.12.9"
  }
 },
 "nbformat": 4,
 "nbformat_minor": 5
}
